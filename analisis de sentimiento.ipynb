{
 "cells": [
  {
   "cell_type": "markdown",
   "metadata": {},
   "source": [
    "# Analisis de Sentimientos en reseñas de películas\n",
    "\n",
    "[![Open In Colab](https://colab.research.google.com/assets/colab-badge.svg)](https://colab.research.google.com/github/Ohtar10/icesi-nlp/blob/main/Sesion1/7-sentiment-analysis.ipynb)\n",
    "\n",
    "Ahora pongamos en práctica algunos de estos conceptos en un caso más real. Para esta práctica vamos a hacer un análisis de sentimientos sobre unas reseñas de películas. Este caso sería una simple clasificación binaria y podemos utilizar cualquier modelo para ese fin, lo adicional aquí es el pre-procesamiento de las entradas de texto.\n",
    "\n",
    "### Referencias\n",
    "* [Natural Language Processing in Action](https://www.manning.com/books/natural-language-processing-in-action)"
   ]
  },
  {
   "cell_type": "code",
   "execution_count": 1,
   "metadata": {},
   "outputs": [
    {
     "name": "stderr",
     "output_type": "stream",
     "text": [
      "/tmp/ipykernel_1660520/2396000874.py:1: DeprecationWarning: pkg_resources is deprecated as an API. See https://setuptools.pypa.io/en/latest/pkg_resources.html\n",
      "  import pkg_resources\n"
     ]
    }
   ],
   "source": [
    "import pkg_resources\n",
    "import warnings\n",
    "\n",
    "warnings.filterwarnings('ignore')\n",
    "\n",
    "installed_packages = [package.key for package in pkg_resources.working_set]\n",
    "IN_COLAB = 'google-colab' in installed_packages"
   ]
  },
  {
   "cell_type": "markdown",
   "metadata": {},
   "source": [
    "Empecemos por cargar el dataset:"
   ]
  },
  {
   "cell_type": "code",
   "execution_count": 1,
   "metadata": {},
   "outputs": [
    {
     "data": {
      "text/html": [
       "<div>\n",
       "<style scoped>\n",
       "    .dataframe tbody tr th:only-of-type {\n",
       "        vertical-align: middle;\n",
       "    }\n",
       "\n",
       "    .dataframe tbody tr th {\n",
       "        vertical-align: top;\n",
       "    }\n",
       "\n",
       "    .dataframe thead th {\n",
       "        text-align: right;\n",
       "    }\n",
       "</style>\n",
       "<table border=\"1\" class=\"dataframe\">\n",
       "  <thead>\n",
       "    <tr style=\"text-align: right;\">\n",
       "      <th></th>\n",
       "      <th>label</th>\n",
       "      <th>review</th>\n",
       "    </tr>\n",
       "  </thead>\n",
       "  <tbody>\n",
       "    <tr>\n",
       "      <th>0</th>\n",
       "      <td>neg</td>\n",
       "      <td>how do films like mouse hunt get into theatres...</td>\n",
       "    </tr>\n",
       "    <tr>\n",
       "      <th>1</th>\n",
       "      <td>neg</td>\n",
       "      <td>some talented actresses are blessed with a dem...</td>\n",
       "    </tr>\n",
       "    <tr>\n",
       "      <th>2</th>\n",
       "      <td>pos</td>\n",
       "      <td>this has been an extraordinary year for austra...</td>\n",
       "    </tr>\n",
       "    <tr>\n",
       "      <th>3</th>\n",
       "      <td>pos</td>\n",
       "      <td>according to hollywood movies made in last few...</td>\n",
       "    </tr>\n",
       "    <tr>\n",
       "      <th>4</th>\n",
       "      <td>neg</td>\n",
       "      <td>my first press screening of 1998 and already i...</td>\n",
       "    </tr>\n",
       "  </tbody>\n",
       "</table>\n",
       "</div>"
      ],
      "text/plain": [
       "  label                                             review\n",
       "0   neg  how do films like mouse hunt get into theatres...\n",
       "1   neg  some talented actresses are blessed with a dem...\n",
       "2   pos  this has been an extraordinary year for austra...\n",
       "3   pos  according to hollywood movies made in last few...\n",
       "4   neg  my first press screening of 1998 and already i..."
      ]
     },
     "execution_count": 1,
     "metadata": {},
     "output_type": "execute_result"
    }
   ],
   "source": [
    "import pandas as pd\n",
    "import numpy as np\n",
    "\n",
    "reviews = pd.read_csv('./moviereviews.tsv', sep='\\t')\n",
    "reviews.head()"
   ]
  },
  {
   "cell_type": "markdown",
   "metadata": {},
   "source": [
    "Luego, hagamos algo de limpieza, vamos a remover nulos y valores vacíos:"
   ]
  },
  {
   "cell_type": "code",
   "execution_count": 2,
   "metadata": {},
   "outputs": [],
   "source": [
    "reviews.dropna(inplace=True)\n",
    "reviews.review = reviews.review.apply(lambda r: r.strip())\n",
    "blanks = reviews[reviews.review == ''].index\n",
    "reviews.drop(blanks, inplace=True)"
   ]
  },
  {
   "cell_type": "code",
   "execution_count": 3,
   "metadata": {},
   "outputs": [
    {
     "data": {
      "text/plain": [
       "Index([], dtype='int64')"
      ]
     },
     "execution_count": 3,
     "metadata": {},
     "output_type": "execute_result"
    }
   ],
   "source": [
    "reviews[reviews.review == ''].index"
   ]
  },
  {
   "cell_type": "code",
   "execution_count": 4,
   "metadata": {},
   "outputs": [
    {
     "data": {
      "text/plain": [
       "label\n",
       "neg    969\n",
       "pos    969\n",
       "Name: count, dtype: int64"
      ]
     },
     "execution_count": 4,
     "metadata": {},
     "output_type": "execute_result"
    }
   ],
   "source": [
    "reviews.label.value_counts()"
   ]
  },
  {
   "cell_type": "markdown",
   "metadata": {},
   "source": [
    "Tenemos un dataset balanceado de casi mil ejemplares por cada clase.\n",
    "\n",
    "Para hacer las cosas simples, vamos a utilizar un VADER para computar el puntaje de positivo o negativo. Este modelo ya viene implementado dentro de NLTK."
   ]
  },
  {
   "cell_type": "code",
   "execution_count": 5,
   "metadata": {},
   "outputs": [
    {
     "name": "stderr",
     "output_type": "stream",
     "text": [
      "[nltk_data] Downloading package vader_lexicon to\n",
      "[nltk_data]     C:\\Users\\joshu\\AppData\\Roaming\\nltk_data...\n"
     ]
    },
    {
     "data": {
      "text/plain": [
       "True"
      ]
     },
     "execution_count": 5,
     "metadata": {},
     "output_type": "execute_result"
    }
   ],
   "source": [
    "import nltk\n",
    "nltk.download('vader_lexicon')"
   ]
  },
  {
   "cell_type": "code",
   "execution_count": 6,
   "metadata": {},
   "outputs": [
    {
     "data": {
      "text/html": [
       "<div>\n",
       "<style scoped>\n",
       "    .dataframe tbody tr th:only-of-type {\n",
       "        vertical-align: middle;\n",
       "    }\n",
       "\n",
       "    .dataframe tbody tr th {\n",
       "        vertical-align: top;\n",
       "    }\n",
       "\n",
       "    .dataframe thead th {\n",
       "        text-align: right;\n",
       "    }\n",
       "</style>\n",
       "<table border=\"1\" class=\"dataframe\">\n",
       "  <thead>\n",
       "    <tr style=\"text-align: right;\">\n",
       "      <th></th>\n",
       "      <th>label</th>\n",
       "      <th>review</th>\n",
       "      <th>scores</th>\n",
       "    </tr>\n",
       "  </thead>\n",
       "  <tbody>\n",
       "    <tr>\n",
       "      <th>0</th>\n",
       "      <td>neg</td>\n",
       "      <td>how do films like mouse hunt get into theatres...</td>\n",
       "      <td>{'neg': 0.121, 'neu': 0.778, 'pos': 0.101, 'co...</td>\n",
       "    </tr>\n",
       "    <tr>\n",
       "      <th>1</th>\n",
       "      <td>neg</td>\n",
       "      <td>some talented actresses are blessed with a dem...</td>\n",
       "      <td>{'neg': 0.12, 'neu': 0.775, 'pos': 0.105, 'com...</td>\n",
       "    </tr>\n",
       "    <tr>\n",
       "      <th>2</th>\n",
       "      <td>pos</td>\n",
       "      <td>this has been an extraordinary year for austra...</td>\n",
       "      <td>{'neg': 0.068, 'neu': 0.781, 'pos': 0.15, 'com...</td>\n",
       "    </tr>\n",
       "    <tr>\n",
       "      <th>3</th>\n",
       "      <td>pos</td>\n",
       "      <td>according to hollywood movies made in last few...</td>\n",
       "      <td>{'neg': 0.071, 'neu': 0.782, 'pos': 0.147, 'co...</td>\n",
       "    </tr>\n",
       "    <tr>\n",
       "      <th>4</th>\n",
       "      <td>neg</td>\n",
       "      <td>my first press screening of 1998 and already i...</td>\n",
       "      <td>{'neg': 0.091, 'neu': 0.817, 'pos': 0.093, 'co...</td>\n",
       "    </tr>\n",
       "  </tbody>\n",
       "</table>\n",
       "</div>"
      ],
      "text/plain": [
       "  label                                             review  \\\n",
       "0   neg  how do films like mouse hunt get into theatres...   \n",
       "1   neg  some talented actresses are blessed with a dem...   \n",
       "2   pos  this has been an extraordinary year for austra...   \n",
       "3   pos  according to hollywood movies made in last few...   \n",
       "4   neg  my first press screening of 1998 and already i...   \n",
       "\n",
       "                                              scores  \n",
       "0  {'neg': 0.121, 'neu': 0.778, 'pos': 0.101, 'co...  \n",
       "1  {'neg': 0.12, 'neu': 0.775, 'pos': 0.105, 'com...  \n",
       "2  {'neg': 0.068, 'neu': 0.781, 'pos': 0.15, 'com...  \n",
       "3  {'neg': 0.071, 'neu': 0.782, 'pos': 0.147, 'co...  \n",
       "4  {'neg': 0.091, 'neu': 0.817, 'pos': 0.093, 'co...  "
      ]
     },
     "execution_count": 6,
     "metadata": {},
     "output_type": "execute_result"
    }
   ],
   "source": [
    "from nltk.sentiment.vader import SentimentIntensityAnalyzer\n",
    "\n",
    "sid = SentimentIntensityAnalyzer()\n",
    "reviews['scores'] = reviews.review.apply(lambda r: sid.polarity_scores(r))\n",
    "reviews.head()"
   ]
  },
  {
   "cell_type": "markdown",
   "metadata": {},
   "source": [
    "Con estos puntajes ahora podemos convertir el resultado en una etiqueta de predicción:"
   ]
  },
  {
   "cell_type": "code",
   "execution_count": 7,
   "metadata": {},
   "outputs": [
    {
     "data": {
      "text/html": [
       "<div>\n",
       "<style scoped>\n",
       "    .dataframe tbody tr th:only-of-type {\n",
       "        vertical-align: middle;\n",
       "    }\n",
       "\n",
       "    .dataframe tbody tr th {\n",
       "        vertical-align: top;\n",
       "    }\n",
       "\n",
       "    .dataframe thead th {\n",
       "        text-align: right;\n",
       "    }\n",
       "</style>\n",
       "<table border=\"1\" class=\"dataframe\">\n",
       "  <thead>\n",
       "    <tr style=\"text-align: right;\">\n",
       "      <th></th>\n",
       "      <th>label</th>\n",
       "      <th>review</th>\n",
       "      <th>scores</th>\n",
       "      <th>compound</th>\n",
       "      <th>prediction</th>\n",
       "    </tr>\n",
       "  </thead>\n",
       "  <tbody>\n",
       "    <tr>\n",
       "      <th>0</th>\n",
       "      <td>neg</td>\n",
       "      <td>how do films like mouse hunt get into theatres...</td>\n",
       "      <td>{'neg': 0.121, 'neu': 0.778, 'pos': 0.101, 'co...</td>\n",
       "      <td>-0.9125</td>\n",
       "      <td>neg</td>\n",
       "    </tr>\n",
       "    <tr>\n",
       "      <th>1</th>\n",
       "      <td>neg</td>\n",
       "      <td>some talented actresses are blessed with a dem...</td>\n",
       "      <td>{'neg': 0.12, 'neu': 0.775, 'pos': 0.105, 'com...</td>\n",
       "      <td>-0.8618</td>\n",
       "      <td>neg</td>\n",
       "    </tr>\n",
       "    <tr>\n",
       "      <th>2</th>\n",
       "      <td>pos</td>\n",
       "      <td>this has been an extraordinary year for austra...</td>\n",
       "      <td>{'neg': 0.068, 'neu': 0.781, 'pos': 0.15, 'com...</td>\n",
       "      <td>0.9951</td>\n",
       "      <td>pos</td>\n",
       "    </tr>\n",
       "    <tr>\n",
       "      <th>3</th>\n",
       "      <td>pos</td>\n",
       "      <td>according to hollywood movies made in last few...</td>\n",
       "      <td>{'neg': 0.071, 'neu': 0.782, 'pos': 0.147, 'co...</td>\n",
       "      <td>0.9972</td>\n",
       "      <td>pos</td>\n",
       "    </tr>\n",
       "    <tr>\n",
       "      <th>4</th>\n",
       "      <td>neg</td>\n",
       "      <td>my first press screening of 1998 and already i...</td>\n",
       "      <td>{'neg': 0.091, 'neu': 0.817, 'pos': 0.093, 'co...</td>\n",
       "      <td>-0.2484</td>\n",
       "      <td>neg</td>\n",
       "    </tr>\n",
       "  </tbody>\n",
       "</table>\n",
       "</div>"
      ],
      "text/plain": [
       "  label                                             review  \\\n",
       "0   neg  how do films like mouse hunt get into theatres...   \n",
       "1   neg  some talented actresses are blessed with a dem...   \n",
       "2   pos  this has been an extraordinary year for austra...   \n",
       "3   pos  according to hollywood movies made in last few...   \n",
       "4   neg  my first press screening of 1998 and already i...   \n",
       "\n",
       "                                              scores  compound prediction  \n",
       "0  {'neg': 0.121, 'neu': 0.778, 'pos': 0.101, 'co...   -0.9125        neg  \n",
       "1  {'neg': 0.12, 'neu': 0.775, 'pos': 0.105, 'com...   -0.8618        neg  \n",
       "2  {'neg': 0.068, 'neu': 0.781, 'pos': 0.15, 'com...    0.9951        pos  \n",
       "3  {'neg': 0.071, 'neu': 0.782, 'pos': 0.147, 'co...    0.9972        pos  \n",
       "4  {'neg': 0.091, 'neu': 0.817, 'pos': 0.093, 'co...   -0.2484        neg  "
      ]
     },
     "execution_count": 7,
     "metadata": {},
     "output_type": "execute_result"
    }
   ],
   "source": [
    "reviews['compound'] = reviews.scores.apply(lambda s: s['compound'])    \n",
    "reviews['prediction'] = reviews['compound'].apply(lambda c: 'pos' if c > 0 else 'neg')\n",
    "reviews.head()"
   ]
  },
  {
   "cell_type": "markdown",
   "metadata": {},
   "source": [
    "Y finalmente computar unas cuantas métricas de calidad del modelo:"
   ]
  },
  {
   "cell_type": "code",
   "execution_count": 8,
   "metadata": {},
   "outputs": [
    {
     "name": "stdout",
     "output_type": "stream",
     "text": [
      "Accuracy:\n",
      "0.6357069143446853\n",
      "\n",
      "Classification Report:\n",
      "              precision    recall  f1-score   support\n",
      "\n",
      "         neg       0.72      0.44      0.55       969\n",
      "         pos       0.60      0.83      0.70       969\n",
      "\n",
      "    accuracy                           0.64      1938\n",
      "   macro avg       0.66      0.64      0.62      1938\n",
      "weighted avg       0.66      0.64      0.62      1938\n",
      "\n",
      "Confusion Matrix:\n",
      "[[427 542]\n",
      " [164 805]]\n"
     ]
    }
   ],
   "source": [
    "from sklearn.metrics import accuracy_score, confusion_matrix, classification_report\n",
    "\n",
    "y_true = reviews.label.values\n",
    "y_pred = reviews.prediction.values\n",
    "\n",
    "acc = accuracy_score(y_true, y_pred)\n",
    "cm = confusion_matrix(y_true, y_pred)\n",
    "cr = classification_report(y_true, y_pred)\n",
    "\n",
    "\n",
    "print(f\"Accuracy:\\n{acc}\\n\")\n",
    "print(f\"Classification Report:\\n{cr}\")\n",
    "print(f\"Confusion Matrix:\\n{cm}\")"
   ]
  },
  {
   "cell_type": "markdown",
   "metadata": {},
   "source": [
    "La correctitud no es la mejor, aún podemos hacerlo mucho mejor que la línea base (50%). Parece que tenemos problemas con las etiquetas negativas!"
   ]
  },
  {
   "cell_type": "markdown",
   "metadata": {},
   "source": [
    "La alternativa que encontramos fue probar con un modelo diferente a Vader, uno llamado Flair"
   ]
  },
  {
   "cell_type": "code",
   "execution_count": 9,
   "metadata": {},
   "outputs": [
    {
     "name": "stderr",
     "output_type": "stream",
     "text": [
      "c:\\Users\\joshu\\Desktop\\ICESI PLN\\env\\lib\\site-packages\\tqdm\\auto.py:21: TqdmWarning: IProgress not found. Please update jupyter and ipywidgets. See https://ipywidgets.readthedocs.io/en/stable/user_install.html\n",
      "  from .autonotebook import tqdm as notebook_tqdm\n"
     ]
    }
   ],
   "source": [
    "#!pip install flair\n",
    "\n",
    "\n",
    "from flair.models import TextClassifier\n",
    "from flair.data import Sentence\n",
    "from nltk.sentiment.vader import SentimentIntensityAnalyzer\n",
    "from sklearn.metrics import accuracy_score, confusion_matrix, classification_report\n",
    "import time"
   ]
  },
  {
   "cell_type": "code",
   "execution_count": 10,
   "metadata": {},
   "outputs": [
    {
     "name": "stdout",
     "output_type": "stream",
     "text": [
      "Cargando datos...\n",
      "\n",
      "Aplicando VADER (línea base)...\n",
      "Cargando modelo Flair...\n",
      "Modelo Flair cargado exitosamente\n",
      "Aplicando Flair...\n",
      "Procesando reseña 1/1938\n",
      "Procesando reseña 501/1938\n",
      "Procesando reseña 1001/1938\n",
      "Procesando reseña 1501/1938\n"
     ]
    }
   ],
   "source": [
    "# Cargar datos\n",
    "print(\"Cargando datos...\")\n",
    "reviews = pd.read_csv('./moviereviews.tsv', sep='\\t')\n",
    "\n",
    "reviews.dropna(inplace=True)\n",
    "reviews.review = reviews.review.apply(lambda r: str(r).strip())\n",
    "blanks = reviews[reviews.review == ''].index\n",
    "reviews.drop(blanks, inplace=True)\n",
    "\n",
    "\n",
    "print(\"\\nAplicando VADER (línea base)...\")\n",
    "vader = SentimentIntensityAnalyzer()\n",
    "reviews['vader_compound'] = reviews['review'].apply(lambda r: vader.polarity_scores(str(r))['compound'])\n",
    "reviews['vader_prediction'] = reviews['vader_compound'].apply(lambda c: 'pos' if c > 0 else 'neg')\n",
    "\n",
    "# Flair (mejora)\n",
    "print(\"Cargando modelo Flair...\")\n",
    "classifier = TextClassifier.load('en-sentiment')\n",
    "print(\"Modelo Flair cargado exitosamente\")\n",
    "\n",
    "print(\"Aplicando Flair...\")\n",
    "\n",
    "flair_sentiments = []\n",
    "for i, review in enumerate(reviews['review']):\n",
    "    if i % 500 == 0:\n",
    "        print(f\"Procesando reseña {i+1}/{len(reviews)}\")\n",
    "    \n",
    "    sentence = Sentence(review)\n",
    "    classifier.predict(sentence)\n",
    "    \n",
    "    # Extraer sentimiento\n",
    "    if sentence.labels:\n",
    "        label = sentence.labels[0]\n",
    "        if label.value == 'POSITIVE':\n",
    "            flair_sentiments.append(1.0)\n",
    "        else:\n",
    "            flair_sentiments.append(-1.0)\n",
    "    else:\n",
    "        flair_sentiments.append(0.0)\n"
   ]
  },
  {
   "cell_type": "markdown",
   "metadata": {},
   "source": []
  },
  {
   "cell_type": "code",
   "execution_count": 11,
   "metadata": {},
   "outputs": [
    {
     "name": "stdout",
     "output_type": "stream",
     "text": [
      "\n",
      "============================================================\n",
      "EVALUACIÓN VADER (LÍNEA BASE)\n",
      "============================================================\n",
      "VADER - Accuracy: 0.636\n",
      "VADER - Neg Recall: 0.441\n",
      "VADER - Pos Recall: 0.831\n",
      "\n",
      "Matriz de Confusión VADER:\n",
      "[[427 542]\n",
      " [164 805]]\n",
      "\n",
      "Reporte de Clasificación VADER:\n",
      "              precision    recall  f1-score   support\n",
      "\n",
      "         neg       0.72      0.44      0.55       969\n",
      "         pos       0.60      0.83      0.70       969\n",
      "\n",
      "    accuracy                           0.64      1938\n",
      "   macro avg       0.66      0.64      0.62      1938\n",
      "weighted avg       0.66      0.64      0.62      1938\n",
      "\n",
      "\n",
      "============================================================\n",
      "EVALUACIÓN FLAIR (MEJORA)\n",
      "============================================================\n",
      "Flair - Accuracy: 0.805\n",
      "Flair - Neg Recall: 0.966\n",
      "Flair - Pos Recall: 0.645\n"
     ]
    }
   ],
   "source": [
    "reviews['flair_sentiment'] = flair_sentiments\n",
    "reviews['flair_prediction'] = reviews['flair_sentiment'].apply(lambda c: 'pos' if c > 0 else 'neg')\n",
    "\n",
    "# Evaluar VADER (línea base)\n",
    "print(\"\\n\" + \"=\"*60)\n",
    "print(\"EVALUACIÓN VADER (LÍNEA BASE)\")\n",
    "print(\"=\"*60)\n",
    "\n",
    "y_true = reviews['label'].values.astype(str)\n",
    "y_pred_vader = reviews['vader_prediction'].values.astype(str)\n",
    "\n",
    "vader_acc = accuracy_score(y_true, y_pred_vader)\n",
    "vader_cm = confusion_matrix(y_true, y_pred_vader)\n",
    "tn_v, fp_v, fn_v, tp_v = vader_cm.ravel()\n",
    "vader_neg_recall = tn_v / (tn_v + fp_v) if (tn_v + fp_v) > 0 else 0\n",
    "vader_pos_recall = tp_v / (tp_v + fn_v) if (tp_v + fn_v) > 0 else 0\n",
    "\n",
    "print(f\"VADER - Accuracy: {vader_acc:.3f}\")\n",
    "print(f\"VADER - Neg Recall: {vader_neg_recall:.3f}\")\n",
    "print(f\"VADER - Pos Recall: {vader_pos_recall:.3f}\")\n",
    "\n",
    "print(f\"\\nMatriz de Confusión VADER:\")\n",
    "print(vader_cm)\n",
    "\n",
    "print(f\"\\nReporte de Clasificación VADER:\")\n",
    "print(classification_report(y_true, y_pred_vader))\n",
    "\n",
    "# Evaluar Flair (mejora)\n",
    "print(\"\\n\" + \"=\"*60)\n",
    "print(\"EVALUACIÓN FLAIR (MEJORA)\")\n",
    "print(\"=\"*60)\n",
    "\n",
    "y_pred_flair = reviews['flair_prediction'].values.astype(str)\n",
    "\n",
    "flair_acc = accuracy_score(y_true, y_pred_flair)\n",
    "flair_cm = confusion_matrix(y_true, y_pred_flair)\n",
    "tn_f, fp_f, fn_f, tp_f = flair_cm.ravel()\n",
    "flair_neg_recall = tn_f / (tn_f + fp_f) if (tn_f + fp_f) > 0 else 0\n",
    "flair_pos_recall = tp_f / (tp_f + fn_f) if (tp_f + fn_f) > 0 else 0\n",
    "\n",
    "print(f\"Flair - Accuracy: {flair_acc:.3f}\")\n",
    "print(f\"Flair - Neg Recall: {flair_neg_recall:.3f}\")\n",
    "print(f\"Flair - Pos Recall: {flair_pos_recall:.3f}\")"
   ]
  },
  {
   "cell_type": "code",
   "execution_count": 13,
   "metadata": {},
   "outputs": [
    {
     "name": "stdout",
     "output_type": "stream",
     "text": [
      "\n",
      "Reporte de Clasificación Flair:\n",
      "              precision    recall  f1-score   support\n",
      "\n",
      "         neg       0.73      0.97      0.83       969\n",
      "         pos       0.95      0.64      0.77       969\n",
      "\n",
      "    accuracy                           0.81      1938\n",
      "   macro avg       0.84      0.81      0.80      1938\n",
      "weighted avg       0.84      0.81      0.80      1938\n",
      "\n",
      "\n",
      "============================================================\n",
      "COMPARACIÓN FINAL: MEJORA SIGNIFICATIVA\n",
      "============================================================\n",
      "MEJORA EN ACCURACY: 0.170 (17.0%)\n",
      "MEJORA EN NEG RECALL: 0.525 (52.5%)\n",
      "MEJORA EN POS RECALL: -0.186 (-18.6%)\n",
      "\n",
      "RESUMEN:\n",
      "  VADER (línea base): Accuracy 0.636, Neg Recall 0.441\n",
      "  Flair (mejora):     Accuracy 0.805, Neg Recall 0.966\n",
      "  ¡MEJORA TOTAL:      +17.0% accuracy, +52.5% neg recall!\n",
      "\n",
      "============================================================\n",
      "EJEMPLOS DE MEJORA\n",
      "============================================================\n",
      "\n",
      "Casos donde Flair corrigió VADER:\n",
      "\n",
      "Ejemplo 1:\n",
      "Review: synopsis : melissa , a mentally-disturbed woman who likes to smoke , seduces doug , a minor-league baseball player who l...\n",
      "Label real: neg\n",
      "VADER: pos (compound: 0.987)\n",
      "Flair: neg (sentiment: -1.000)\n",
      "\n",
      "Ejemplo 2:\n",
      "Review: tim robbins and martin lawernce team up in this road movie comedy . \n",
      "robbins plays an exec who discovers his wife having...\n",
      "Label real: neg\n",
      "VADER: pos (compound: 0.983)\n",
      "Flair: neg (sentiment: -1.000)\n",
      "\n",
      "Ejemplo 3:\n",
      "Review: upon first viewing of this movie , the phrases \" been there \" and \" done that \" come quickly to mind . \n",
      "spy hard manages...\n",
      "Label real: neg\n",
      "VADER: pos (compound: 0.954)\n",
      "Flair: neg (sentiment: -1.000)\n"
     ]
    }
   ],
   "source": [
    "print(f\"\\nReporte de Clasificación Flair:\")\n",
    "print(classification_report(y_true, y_pred_flair))\n",
    "\n",
    "print(\"\\n\" + \"=\"*60)\n",
    "print(\"COMPARACIÓN FINAL: MEJORA SIGNIFICATIVA\")\n",
    "print(\"=\"*60)\n",
    "\n",
    "print(f\"MEJORA EN ACCURACY: {flair_acc - vader_acc:.3f} ({(flair_acc - vader_acc)*100:.1f}%)\")\n",
    "print(f\"MEJORA EN NEG RECALL: {flair_neg_recall - vader_neg_recall:.3f} ({(flair_neg_recall - vader_neg_recall)*100:.1f}%)\")\n",
    "print(f\"MEJORA EN POS RECALL: {flair_pos_recall - vader_pos_recall:.3f} ({(flair_pos_recall - vader_pos_recall)*100:.1f}%)\")\n",
    "\n",
    "print(f\"\\nRESUMEN:\")\n",
    "print(f\"  VADER (línea base): Accuracy {vader_acc:.3f}, Neg Recall {vader_neg_recall:.3f}\")\n",
    "print(f\"  Flair (mejora):     Accuracy {flair_acc:.3f}, Neg Recall {flair_neg_recall:.3f}\")\n",
    "print(f\"  ¡MEJORA TOTAL:      +{(flair_acc - vader_acc)*100:.1f}% accuracy, +{(flair_neg_recall - vader_neg_recall)*100:.1f}% neg recall!\")\n",
    "\n",
    "print(f\"\\n\" + \"=\"*60)\n",
    "print(\"EJEMPLOS DE MEJORA\")\n",
    "print(\"=\"*60)\n",
    "\n",
    "corrected_cases = reviews[\n",
    "    (reviews['vader_prediction'] != reviews['label']) & \n",
    "    (reviews['flair_prediction'] == reviews['label'])\n",
    "].head(3)\n",
    "\n",
    "if len(corrected_cases) > 0:\n",
    "    print(f\"\\nCasos donde Flair corrigió VADER:\")\n",
    "    for i, (_, row) in enumerate(corrected_cases.iterrows()):\n",
    "        print(f\"\\nEjemplo {i+1}:\")\n",
    "        print(f\"Review: {row['review'][:120]}...\")\n",
    "        print(f\"Label real: {row['label']}\")\n",
    "        print(f\"VADER: {row['vader_prediction']} (compound: {row['vader_compound']:.3f})\")\n",
    "        print(f\"Flair: {row['flair_prediction']} (sentiment: {row['flair_sentiment']:.3f})\")"
   ]
  },
  {
   "cell_type": "markdown",
   "metadata": {},
   "source": [
    "FLAIR HA MEJORADO SIGNIFICATIVAMENTE EL ANÁLISIS DE SENTIMIENTOS\n",
    "Especialmente en la detección de reseñas negativas, que era nuestro objetivo principal"
   ]
  },
  {
   "cell_type": "markdown",
   "metadata": {},
   "source": []
  }
 ],
 "metadata": {
  "kernelspec": {
   "display_name": "env",
   "language": "python",
   "name": "python3"
  },
  "language_info": {
   "codemirror_mode": {
    "name": "ipython",
    "version": 3
   },
   "file_extension": ".py",
   "mimetype": "text/x-python",
   "name": "python",
   "nbconvert_exporter": "python",
   "pygments_lexer": "ipython3",
   "version": "3.10.4"
  }
 },
 "nbformat": 4,
 "nbformat_minor": 4
}
